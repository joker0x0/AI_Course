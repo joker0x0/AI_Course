{
 "cells": [
  {
   "cell_type": "markdown",
   "metadata": {
    "ExecuteTime": {
     "end_time": "2022-07-20T21:46:02.119012Z",
     "start_time": "2022-07-20T21:46:02.061165Z"
    },
    "id": "y8V7NRSZiQoe"
   },
   "source": [
    "# Operators"
   ]
  },
  {
   "cell_type": "markdown",
   "metadata": {
    "id": "VsuToygCiQoj"
   },
   "source": [
    "## Binary Operator"
   ]
  },
  {
   "cell_type": "code",
   "execution_count": 1,
   "metadata": {
    "ExecuteTime": {
     "end_time": "2022-07-20T21:57:37.315324Z",
     "start_time": "2022-07-20T21:57:37.300365Z"
    },
    "executionInfo": {
     "elapsed": 5,
     "status": "ok",
     "timestamp": 1661372816971,
     "user": {
      "displayName": "Mahmoud Elhemaly",
      "userId": "16151413014517738415"
     },
     "user_tz": -120
    },
    "id": "4Fd_HrQ2iQok"
   },
   "outputs": [],
   "source": [
    "x = 6\n",
    "y = 3"
   ]
  },
  {
   "cell_type": "code",
   "execution_count": 2,
   "metadata": {
    "ExecuteTime": {
     "end_time": "2022-07-20T21:57:37.754789Z",
     "start_time": "2022-07-20T21:57:37.747966Z"
    },
    "colab": {
     "base_uri": "https://localhost:8080/"
    },
    "executionInfo": {
     "elapsed": 413,
     "status": "ok",
     "timestamp": 1661372838608,
     "user": {
      "displayName": "Mahmoud Elhemaly",
      "userId": "16151413014517738415"
     },
     "user_tz": -120
    },
    "id": "2BNcIzrBiQom",
    "outputId": "b4dbb120-7ee3-4b72-a5bb-06e6ab7247ee"
   },
   "outputs": [
    {
     "name": "stdout",
     "output_type": "stream",
     "text": [
      "9\n"
     ]
    }
   ],
   "source": [
    "print(x+y)"
   ]
  },
  {
   "cell_type": "markdown",
   "metadata": {
    "id": "PkMmeX3LiQon"
   },
   "source": [
    "x+2y-1"
   ]
  },
  {
   "cell_type": "code",
   "execution_count": 56,
   "metadata": {
    "ExecuteTime": {
     "end_time": "2022-07-20T21:57:38.125717Z",
     "start_time": "2022-07-20T21:57:38.107766Z"
    },
    "id": "iTX4nWoNiQoo",
    "outputId": "9fa11778-4e35-405c-8c04-6dbf65b95aed"
   },
   "outputs": [
    {
     "name": "stdout",
     "output_type": "stream",
     "text": [
      "7.0\n"
     ]
    }
   ],
   "source": [
    "   # 11\n",
    "z = 2*y\n",
    "a = x+z-1\n",
    "print(a)"
   ]
  },
  {
   "cell_type": "code",
   "execution_count": 4,
   "metadata": {
    "ExecuteTime": {
     "end_time": "2022-07-20T21:57:38.469099Z",
     "start_time": "2022-07-20T21:57:38.451855Z"
    },
    "id": "d8in59WjiQop",
    "outputId": "4ab433dd-29f1-4380-e739-9ef72f65f611"
   },
   "outputs": [
    {
     "name": "stdout",
     "output_type": "stream",
     "text": [
      "2.0\n"
     ]
    }
   ],
   "source": [
    "x = 4.0\n",
    "y = 2.0\n",
    "print(x / y)            # 2.0"
   ]
  },
  {
   "cell_type": "markdown",
   "metadata": {
    "id": "srdRVJ10iQoq"
   },
   "source": [
    "    (x+y)\n",
    "    _____\n",
    "      3\n",
    "______________\n",
    "       3"
   ]
  },
  {
   "cell_type": "code",
   "execution_count": 5,
   "metadata": {
    "ExecuteTime": {
     "end_time": "2022-07-20T21:57:38.857352Z",
     "start_time": "2022-07-20T21:57:38.853362Z"
    },
    "id": "v6UhcN7niQor"
   },
   "outputs": [],
   "source": [
    "z = 3.0"
   ]
  },
  {
   "cell_type": "code",
   "execution_count": 57,
   "metadata": {
    "ExecuteTime": {
     "end_time": "2022-07-20T21:57:39.562719Z",
     "start_time": "2022-07-20T21:57:39.555738Z"
    },
    "id": "g4ktC-qPiQor",
    "outputId": "66a5857e-74fc-474b-ba73-e63391037afa"
   },
   "outputs": [
    {
     "name": "stdout",
     "output_type": "stream",
     "text": [
      "1.5\n"
     ]
    }
   ],
   "source": [
    "print((x+y)/z)                # 1.0"
   ]
  },
  {
   "cell_type": "code",
   "execution_count": 7,
   "metadata": {
    "ExecuteTime": {
     "end_time": "2022-07-20T21:57:40.295282Z",
     "start_time": "2022-07-20T21:57:40.288302Z"
    },
    "id": "if2M30KKiQos",
    "outputId": "5c31895b-4671-4a1d-e630-e82ca92d6ff4"
   },
   "outputs": [
    {
     "name": "stdout",
     "output_type": "stream",
     "text": [
      "-1.0\n"
     ]
    }
   ],
   "source": [
    "# Unary Operator\n",
    "print(-z)               # -1.0"
   ]
  },
  {
   "cell_type": "markdown",
   "metadata": {
    "id": "P4PTwERhiQot"
   },
   "source": []
  },
  {
   "cell_type": "code",
   "execution_count": null,
   "metadata": {
    "ExecuteTime": {
     "end_time": "2022-07-20T22:04:03.213953Z",
     "start_time": "2022-07-20T22:04:03.203721Z"
    },
    "id": "IB2Dtm4JiQot",
    "outputId": "f6e421af-0d9e-4b4f-918c-731c7991a11b"
   },
   "outputs": [
    {
     "name": "stdout",
     "output_type": "stream",
     "text": [
      "7\n"
     ]
    }
   ],
   "source": [
    "print(7)        # 7"
   ]
  },
  {
   "cell_type": "code",
   "execution_count": 8,
   "metadata": {
    "ExecuteTime": {
     "end_time": "2022-07-20T22:04:03.451625Z",
     "start_time": "2022-07-20T22:04:03.444646Z"
    },
    "id": "vcqRpOx0iQou",
    "outputId": "577db3b2-b2b2-42d0-b421-f18d4fedec74"
   },
   "outputs": [
    {
     "name": "stdout",
     "output_type": "stream",
     "text": [
      "7\n"
     ]
    }
   ],
   "source": [
    "print(7)       # 7"
   ]
  },
  {
   "cell_type": "code",
   "execution_count": 13,
   "metadata": {
    "ExecuteTime": {
     "end_time": "2022-07-20T22:04:03.716805Z",
     "start_time": "2022-07-20T22:04:03.699725Z"
    },
    "id": "0XeEoJ7MiQou",
    "outputId": "db2bc8a6-2e10-459e-a9e0-20e4509e37ef"
   },
   "outputs": [
    {
     "name": "stdout",
     "output_type": "stream",
     "text": [
      "7\n"
     ]
    }
   ],
   "source": [
    "print(7)     # 7"
   ]
  },
  {
   "cell_type": "code",
   "execution_count": 14,
   "metadata": {
    "ExecuteTime": {
     "end_time": "2022-07-20T22:04:03.983690Z",
     "start_time": "2022-07-20T22:04:03.966736Z"
    },
    "id": "wMdTNxvUiQov",
    "outputId": "6a09522b-627f-4068-db83-999bd4cdd951"
   },
   "outputs": [
    {
     "name": "stdout",
     "output_type": "stream",
     "text": [
      "-7\n"
     ]
    }
   ],
   "source": [
    "print(-7)        # -7"
   ]
  },
  {
   "cell_type": "code",
   "execution_count": 15,
   "metadata": {
    "ExecuteTime": {
     "end_time": "2022-07-20T22:04:04.168068Z",
     "start_time": "2022-07-20T22:04:04.153109Z"
    },
    "id": "CjhwppLDiQov",
    "outputId": "e232ce3d-a7c2-4b01-9211-da569ea587c4"
   },
   "outputs": [
    {
     "name": "stdout",
     "output_type": "stream",
     "text": [
      "7\n"
     ]
    }
   ],
   "source": [
    "print(7)       # 7"
   ]
  },
  {
   "cell_type": "code",
   "execution_count": 16,
   "metadata": {
    "ExecuteTime": {
     "end_time": "2022-07-20T22:04:04.570959Z",
     "start_time": "2022-07-20T22:04:04.556956Z"
    },
    "id": "nc4GOSnfiQow",
    "outputId": "26884168-7c0a-4383-d836-62479cce9731"
   },
   "outputs": [
    {
     "name": "stdout",
     "output_type": "stream",
     "text": [
      "7\n"
     ]
    }
   ],
   "source": [
    "print(7)      # -7"
   ]
  },
  {
   "cell_type": "code",
   "execution_count": 17,
   "metadata": {
    "ExecuteTime": {
     "end_time": "2022-07-20T22:04:04.777341Z",
     "start_time": "2022-07-20T22:04:04.761384Z"
    },
    "id": "LjIjNlfFiQow",
    "outputId": "30ba1996-e9de-450e-a417-c818bac4da4b"
   },
   "outputs": [
    {
     "name": "stdout",
     "output_type": "stream",
     "text": [
      "7\n"
     ]
    }
   ],
   "source": [
    "print(7)     # 7"
   ]
  },
  {
   "cell_type": "code",
   "execution_count": null,
   "metadata": {
    "ExecuteTime": {
     "end_time": "2022-07-20T22:04:05.011621Z",
     "start_time": "2022-07-20T22:04:05.001644Z"
    },
    "id": "6dS4bFGxiQox",
    "outputId": "62fef251-2b36-4620-f820-478e4aebb4b1"
   },
   "outputs": [
    {
     "name": "stdout",
     "output_type": "stream",
     "text": [
      "12\n"
     ]
    }
   ],
   "source": [
    "print(7 -- 5)       # 12"
   ]
  },
  {
   "cell_type": "code",
   "execution_count": 18,
   "metadata": {
    "ExecuteTime": {
     "end_time": "2022-07-20T22:04:05.433163Z",
     "start_time": "2022-07-20T22:04:05.423190Z"
    },
    "id": "FCRXl_QKiQox",
    "outputId": "6ab69bec-9e1c-4d25-f21c-a4fd9ceee90a"
   },
   "outputs": [
    {
     "name": "stdout",
     "output_type": "stream",
     "text": [
      "2\n"
     ]
    }
   ],
   "source": [
    "print(7 - 5)       # 2"
   ]
  },
  {
   "cell_type": "markdown",
   "metadata": {
    "id": "U3timdzsiQoy"
   },
   "source": []
  },
  {
   "cell_type": "code",
   "execution_count": 20,
   "metadata": {
    "ExecuteTime": {
     "end_time": "2022-07-20T22:04:06.350557Z",
     "start_time": "2022-07-20T22:04:06.338509Z"
    },
    "id": "TilbypH2iQoy",
    "outputId": "18b68e17-0c91-45bb-d182-67f10bbd14db"
   },
   "outputs": [
    {
     "name": "stdout",
     "output_type": "stream",
     "text": [
      "7.0\n"
     ]
    }
   ],
   "source": [
    "print(14.0 / 2.0)   # 7.0"
   ]
  },
  {
   "cell_type": "code",
   "execution_count": 22,
   "metadata": {
    "ExecuteTime": {
     "end_time": "2022-07-20T22:04:06.695131Z",
     "start_time": "2022-07-20T22:04:06.681115Z"
    },
    "id": "80dAzcgZiQoy",
    "outputId": "c28cce2c-b408-4ba4-d25b-6b0abc700e9d"
   },
   "outputs": [
    {
     "name": "stdout",
     "output_type": "stream",
     "text": [
      "4.666666666666667\n"
     ]
    }
   ],
   "source": [
    "print(14 / 3)   # 4.666666666666667"
   ]
  },
  {
   "cell_type": "code",
   "execution_count": 23,
   "metadata": {
    "ExecuteTime": {
     "end_time": "2022-07-20T22:04:06.915495Z",
     "start_time": "2022-07-20T22:04:06.908341Z"
    },
    "id": "uio_rJTyiQoz",
    "outputId": "bd300219-7f33-416c-c9d9-671500ae8a0b"
   },
   "outputs": [
    {
     "name": "stdout",
     "output_type": "stream",
     "text": [
      "0.35\n"
     ]
    }
   ],
   "source": [
    "print(14 / 40)  # 0.35"
   ]
  },
  {
   "cell_type": "code",
   "execution_count": 24,
   "metadata": {
    "ExecuteTime": {
     "end_time": "2022-07-20T22:04:07.117735Z",
     "start_time": "2022-07-20T22:04:07.105767Z"
    },
    "id": "rYQ1fedniQoz",
    "outputId": "8d86dba1-9b27-4765-a759-c567a54a4b60"
   },
   "outputs": [
    {
     "name": "stdout",
     "output_type": "stream",
     "text": [
      "7\n"
     ]
    }
   ],
   "source": [
    "print(14 // 2)   # 7"
   ]
  },
  {
   "cell_type": "code",
   "execution_count": 25,
   "metadata": {
    "ExecuteTime": {
     "end_time": "2022-07-20T22:04:07.302584Z",
     "start_time": "2022-07-20T22:04:07.284631Z"
    },
    "id": "s_nua122iQo0",
    "outputId": "a9ebf47d-f84d-4db4-9ca4-947b35984ebe"
   },
   "outputs": [
    {
     "name": "stdout",
     "output_type": "stream",
     "text": [
      "4\n"
     ]
    }
   ],
   "source": [
    "print(14 // 3)   # 4"
   ]
  },
  {
   "cell_type": "code",
   "execution_count": 26,
   "metadata": {
    "ExecuteTime": {
     "end_time": "2022-07-20T22:04:07.475342Z",
     "start_time": "2022-07-20T22:04:07.469356Z"
    },
    "id": "3HUn3LWqiQo0",
    "outputId": "360aba4f-7204-4422-c102-f5a1d4a88e9d"
   },
   "outputs": [
    {
     "name": "stdout",
     "output_type": "stream",
     "text": [
      "0\n"
     ]
    }
   ],
   "source": [
    "print(0 // 40)  # 0"
   ]
  },
  {
   "cell_type": "code",
   "execution_count": 27,
   "metadata": {
    "ExecuteTime": {
     "end_time": "2022-07-20T22:04:07.666021Z",
     "start_time": "2022-07-20T22:04:07.649066Z"
    },
    "id": "22BQlnVAiQo0",
    "outputId": "0b4c5260-56e4-45dd-8e4d-2f1c03f97096"
   },
   "outputs": [
    {
     "name": "stdout",
     "output_type": "stream",
     "text": [
      "1.75\n"
     ]
    }
   ],
   "source": [
    "print(14 / 8)     # 1.75"
   ]
  },
  {
   "cell_type": "code",
   "execution_count": 30,
   "metadata": {
    "ExecuteTime": {
     "end_time": "2022-07-20T22:04:07.837707Z",
     "start_time": "2022-07-20T22:04:07.824741Z"
    },
    "id": "lUYUGgxTiQo1",
    "outputId": "e4e32ff4-5f31-429f-ff8d-27ee30248705"
   },
   "outputs": [
    {
     "name": "stdout",
     "output_type": "stream",
     "text": [
      "1\n"
     ]
    }
   ],
   "source": [
    "print(14 // 8)    # 1   round down to a small value 1 = min(1, 2)"
   ]
  },
  {
   "cell_type": "code",
   "execution_count": 31,
   "metadata": {
    "ExecuteTime": {
     "end_time": "2022-07-20T22:04:08.025065Z",
     "start_time": "2022-07-20T22:04:08.005862Z"
    },
    "id": "4AoxIr9niQo1",
    "outputId": "b592ec01-02a9-4076-849c-b0c82a3b1f5c"
   },
   "outputs": [
    {
     "name": "stdout",
     "output_type": "stream",
     "text": [
      "-2\n"
     ]
    }
   ],
   "source": [
    "print(-14 // 8)   # -2  = -2 = min(-2, -1)"
   ]
  },
  {
   "cell_type": "code",
   "execution_count": 33,
   "metadata": {
    "ExecuteTime": {
     "end_time": "2022-07-20T22:04:08.324989Z",
     "start_time": "2022-07-20T22:04:08.313020Z"
    },
    "id": "h0BubjdLiQo1",
    "outputId": "7c2960e9-2d03-4a51-d92e-9f0e1c52cb4f"
   },
   "outputs": [
    {
     "name": "stdout",
     "output_type": "stream",
     "text": [
      "2.0\n"
     ]
    }
   ],
   "source": [
    "print((14.0 / 7.0))     # float"
   ]
  },
  {
   "cell_type": "code",
   "execution_count": 34,
   "metadata": {
    "ExecuteTime": {
     "end_time": "2022-07-20T22:04:08.510978Z",
     "start_time": "2022-07-20T22:04:08.504994Z"
    },
    "id": "UHdTBOKoiQo2",
    "outputId": "0b7599ef-d94c-4d22-fd49-d95df74e4b7f"
   },
   "outputs": [
    {
     "name": "stdout",
     "output_type": "stream",
     "text": [
      "2\n"
     ]
    }
   ],
   "source": [
    "print((14 // 7))    # int"
   ]
  },
  {
   "cell_type": "markdown",
   "metadata": {
    "id": "G9mPCbsfiQo2"
   },
   "source": [
    "/"
   ]
  },
  {
   "cell_type": "code",
   "execution_count": 36,
   "metadata": {
    "ExecuteTime": {
     "end_time": "2022-07-20T22:04:09.916069Z",
     "start_time": "2022-07-20T22:04:09.909168Z"
    },
    "id": "ssV-f92FiQo2"
   },
   "outputs": [],
   "source": [
    "num = 12345"
   ]
  },
  {
   "cell_type": "code",
   "execution_count": 37,
   "metadata": {
    "ExecuteTime": {
     "end_time": "2022-07-20T22:04:10.448282Z",
     "start_time": "2022-07-20T22:04:10.442045Z"
    },
    "id": "rKaIuOVjiQo2",
    "outputId": "ba327af3-63ab-4718-fb6a-9778ee467813"
   },
   "outputs": [
    {
     "name": "stdout",
     "output_type": "stream",
     "text": [
      "1234.5\n"
     ]
    }
   ],
   "source": [
    "print(num / 10)         #  1234.5"
   ]
  },
  {
   "cell_type": "code",
   "execution_count": 38,
   "metadata": {
    "ExecuteTime": {
     "end_time": "2022-07-20T22:04:11.366966Z",
     "start_time": "2022-07-20T22:04:11.354119Z"
    },
    "id": "B5Gj7u6liQo3",
    "outputId": "3f8f33f4-2eea-4f8b-9205-3fef1343ae18"
   },
   "outputs": [
    {
     "name": "stdout",
     "output_type": "stream",
     "text": [
      "123.45\n"
     ]
    }
   ],
   "source": [
    "print(num / 100)        #  123.45"
   ]
  },
  {
   "cell_type": "code",
   "execution_count": 39,
   "metadata": {
    "ExecuteTime": {
     "end_time": "2022-07-20T22:04:11.939113Z",
     "start_time": "2022-07-20T22:04:11.929138Z"
    },
    "id": "HLFidsRyiQo3",
    "outputId": "d72f532c-2b5f-4621-e911-ab00187cce79"
   },
   "outputs": [
    {
     "name": "stdout",
     "output_type": "stream",
     "text": [
      "12.345\n"
     ]
    }
   ],
   "source": [
    "print(num / 1000)       #  12.345"
   ]
  },
  {
   "cell_type": "code",
   "execution_count": 40,
   "metadata": {
    "ExecuteTime": {
     "end_time": "2022-07-20T22:04:12.394250Z",
     "start_time": "2022-07-20T22:04:12.381285Z"
    },
    "id": "ZvIi_MiiiQo3",
    "outputId": "1bc49ee5-187c-423d-fbe7-f7464ecfcdc8"
   },
   "outputs": [
    {
     "name": "stdout",
     "output_type": "stream",
     "text": [
      "1.2345\n"
     ]
    }
   ],
   "source": [
    "print(num / 10000)      #  1.2345"
   ]
  },
  {
   "cell_type": "code",
   "execution_count": 41,
   "metadata": {
    "ExecuteTime": {
     "end_time": "2022-07-20T22:04:12.875943Z",
     "start_time": "2022-07-20T22:04:12.860752Z"
    },
    "id": "y49bNdkfiQo3",
    "outputId": "4209e1e4-7c72-4068-cc70-e40301231ac8"
   },
   "outputs": [
    {
     "name": "stdout",
     "output_type": "stream",
     "text": [
      "0.12345\n"
     ]
    }
   ],
   "source": [
    "print(num / 100000)     # 0.12345"
   ]
  },
  {
   "cell_type": "markdown",
   "metadata": {
    "id": "5Ai345YsiQo4"
   },
   "source": [
    "//"
   ]
  },
  {
   "cell_type": "code",
   "execution_count": 42,
   "metadata": {
    "ExecuteTime": {
     "end_time": "2022-07-20T22:04:13.217579Z",
     "start_time": "2022-07-20T22:04:13.210895Z"
    },
    "id": "taxauPIDiQo4",
    "outputId": "6086c443-562b-4f3b-aad4-7fd68f7e9c52"
   },
   "outputs": [
    {
     "name": "stdout",
     "output_type": "stream",
     "text": [
      "1234\n"
     ]
    }
   ],
   "source": [
    "print(num // 10)        # 1234"
   ]
  },
  {
   "cell_type": "code",
   "execution_count": 43,
   "metadata": {
    "ExecuteTime": {
     "end_time": "2022-07-20T22:04:13.390964Z",
     "start_time": "2022-07-20T22:04:13.376994Z"
    },
    "id": "wuOW-qftiQo4",
    "outputId": "5a90ce5e-23d4-4f5a-f1cd-01e744625faf"
   },
   "outputs": [
    {
     "name": "stdout",
     "output_type": "stream",
     "text": [
      "123\n"
     ]
    }
   ],
   "source": [
    "print(num // 100)       # 123"
   ]
  },
  {
   "cell_type": "code",
   "execution_count": 44,
   "metadata": {
    "ExecuteTime": {
     "end_time": "2022-07-20T22:04:13.560502Z",
     "start_time": "2022-07-20T22:04:13.541552Z"
    },
    "id": "8CLVMf31iQo4",
    "outputId": "fc18768a-848e-402b-b28a-f891ab93555f"
   },
   "outputs": [
    {
     "name": "stdout",
     "output_type": "stream",
     "text": [
      "12\n"
     ]
    }
   ],
   "source": [
    "print(num // 1000)      # 12"
   ]
  },
  {
   "cell_type": "code",
   "execution_count": 45,
   "metadata": {
    "ExecuteTime": {
     "end_time": "2022-07-20T22:04:13.719143Z",
     "start_time": "2022-07-20T22:04:13.712159Z"
    },
    "id": "w2T7Wt8uiQo5",
    "outputId": "815666df-ab11-4639-b59b-42af3e81fe3e"
   },
   "outputs": [
    {
     "name": "stdout",
     "output_type": "stream",
     "text": [
      "1\n"
     ]
    }
   ],
   "source": [
    "print(num // 10000)     # 1"
   ]
  },
  {
   "cell_type": "code",
   "execution_count": 46,
   "metadata": {
    "ExecuteTime": {
     "end_time": "2022-07-20T22:04:13.888447Z",
     "start_time": "2022-07-20T22:04:13.872490Z"
    },
    "id": "gYv0u4ZYiQo5",
    "outputId": "1cf184f1-c7d2-4db6-a6e8-5c520921d5f7"
   },
   "outputs": [
    {
     "name": "stdout",
     "output_type": "stream",
     "text": [
      "0\n"
     ]
    }
   ],
   "source": [
    "print(num // 100000)    # 0"
   ]
  },
  {
   "cell_type": "markdown",
   "metadata": {
    "id": "4M2dNHjoiQo5"
   },
   "source": [
    "**"
   ]
  },
  {
   "cell_type": "markdown",
   "metadata": {
    "id": "928nI8EMiQo5"
   },
   "source": [
    "   4\n",
    " *\n",
    "2"
   ]
  },
  {
   "cell_type": "code",
   "execution_count": 47,
   "metadata": {
    "ExecuteTime": {
     "end_time": "2022-07-20T22:04:14.200163Z",
     "start_time": "2022-07-20T22:04:14.195177Z"
    },
    "id": "7Fq-Oe8OiQo6",
    "outputId": "488216ef-1c39-4f8f-e2e3-6b062b7cee61"
   },
   "outputs": [
    {
     "name": "stdout",
     "output_type": "stream",
     "text": [
      "16\n"
     ]
    }
   ],
   "source": [
    "print(16)       # 16"
   ]
  },
  {
   "cell_type": "markdown",
   "metadata": {
    "id": "wf9ctkO0iQo6"
   },
   "source": [
    "   -4\n",
    " *\n",
    "2"
   ]
  },
  {
   "cell_type": "code",
   "execution_count": 48,
   "metadata": {
    "ExecuteTime": {
     "end_time": "2022-07-20T22:04:14.372593Z",
     "start_time": "2022-07-20T22:04:14.363618Z"
    },
    "id": "YU5fqVIGiQo6",
    "outputId": "39806044-49ed-4c86-fa7e-578e5cd30d8e"
   },
   "outputs": [
    {
     "name": "stdout",
     "output_type": "stream",
     "text": [
      "0.0625\n"
     ]
    }
   ],
   "source": [
    "print(1/16)     # 0.0625 = 1/16"
   ]
  },
  {
   "cell_type": "code",
   "execution_count": 49,
   "metadata": {
    "ExecuteTime": {
     "end_time": "2022-07-20T22:04:14.835943Z",
     "start_time": "2022-07-20T22:04:14.828711Z"
    },
    "id": "XdGp1LYBiQo6",
    "outputId": "d8388442-f2fa-4c54-ac2e-52e47ccb1546"
   },
   "outputs": [
    {
     "name": "stdout",
     "output_type": "stream",
     "text": [
      "1\n"
     ]
    }
   ],
   "source": [
    "print(5 ** 0)       # 1"
   ]
  },
  {
   "cell_type": "code",
   "execution_count": 50,
   "metadata": {
    "ExecuteTime": {
     "end_time": "2022-07-20T22:04:15.052279Z",
     "start_time": "2022-07-20T22:04:15.035326Z"
    },
    "id": "9dSdnyFxiQo7",
    "outputId": "b15f95d6-866f-4da8-9c25-ad40590a078b"
   },
   "outputs": [
    {
     "name": "stdout",
     "output_type": "stream",
     "text": [
      "0\n"
     ]
    }
   ],
   "source": [
    "print(0 ** 5)       # 0"
   ]
  },
  {
   "cell_type": "code",
   "execution_count": 51,
   "metadata": {
    "ExecuteTime": {
     "end_time": "2022-07-20T22:04:15.220829Z",
     "start_time": "2022-07-20T22:04:15.201878Z"
    },
    "id": "kU2LpiiZiQo7",
    "outputId": "81f12b45-5322-4b4f-e4a1-c9a1fb3a9828"
   },
   "outputs": [
    {
     "name": "stdout",
     "output_type": "stream",
     "text": [
      "19.448100000000004\n"
     ]
    }
   ],
   "source": [
    "print(2.1 ** 4)     # 19.448100000000004"
   ]
  },
  {
   "cell_type": "code",
   "execution_count": 52,
   "metadata": {
    "ExecuteTime": {
     "end_time": "2022-07-20T22:04:15.553099Z",
     "start_time": "2022-07-20T22:04:15.536934Z"
    },
    "id": "1nS7XZzLiQo7",
    "outputId": "b400cac8-8dfe-4bd7-8ed9-fadc7b884fbc"
   },
   "outputs": [
    {
     "name": "stdout",
     "output_type": "stream",
     "text": [
      "17.148375400580687\n"
     ]
    }
   ],
   "source": [
    "print(2 ** 4.1)     # 17.148375400580687"
   ]
  },
  {
   "cell_type": "code",
   "execution_count": 53,
   "metadata": {
    "ExecuteTime": {
     "end_time": "2022-07-20T22:04:15.879051Z",
     "start_time": "2022-07-20T22:04:15.865092Z"
    },
    "id": "URk_rojsiQo8"
   },
   "outputs": [],
   "source": [
    "# Remove last K digits"
   ]
  },
  {
   "cell_type": "code",
   "execution_count": 54,
   "metadata": {
    "ExecuteTime": {
     "end_time": "2022-07-20T22:04:16.346282Z",
     "start_time": "2022-07-20T22:04:16.341295Z"
    },
    "id": "CG6FsJWNiQo8",
    "outputId": "92788730-ff1c-4231-9b47-15c4c4c02947"
   },
   "outputs": [
    {
     "name": "stdout",
     "output_type": "stream",
     "text": [
      "12\n"
     ]
    }
   ],
   "source": [
    "num, k = 12345, 3\n",
    "print(num // (10 ** k)) # 12"
   ]
  },
  {
   "cell_type": "code",
   "execution_count": 55,
   "metadata": {
    "ExecuteTime": {
     "end_time": "2022-07-20T22:04:17.532294Z",
     "start_time": "2022-07-20T22:04:17.513342Z"
    },
    "id": "XDCYJmsViQo8",
    "outputId": "0e7a62a7-5bbd-4523-abfc-57d226aac52e"
   },
   "outputs": [
    {
     "name": "stdout",
     "output_type": "stream",
     "text": [
      "Hi\n",
      "\n",
      "I am Mahmoud\n",
      "18\n",
      "Wonderful day\n",
      "Wonderful \tday\n"
     ]
    }
   ],
   "source": [
    "print('Hi')\n",
    "print()\n",
    "print(\"I am Mahmoud\")\n",
    "print(3 * 6)\n",
    "print(\"Wonderful day\")\n",
    "print(\"Wonderful \\t\" \"day\")"
   ]
  },
  {
   "cell_type": "code",
   "execution_count": null,
   "metadata": {
    "id": "QHg_AMZciQo8"
   },
   "outputs": [],
   "source": []
  }
 ],
 "metadata": {
  "colab": {
   "name": "01.Arithmetic Operations.ipynb",
   "provenance": []
  },
  "hide_input": false,
  "interpreter": {
   "hash": "90e4c421d18cbf37b4377d2f9a517b89a3d20d68c4f0d7eb02462560b94db053"
  },
  "kernelspec": {
   "display_name": "Python 3 (ipykernel)",
   "language": "python",
   "name": "python3"
  },
  "language_info": {
   "codemirror_mode": {
    "name": "ipython",
    "version": 3
   },
   "file_extension": ".py",
   "mimetype": "text/x-python",
   "name": "python",
   "nbconvert_exporter": "python",
   "pygments_lexer": "ipython3",
   "version": "3.9.12"
  },
  "toc": {
   "base_numbering": 1,
   "nav_menu": {},
   "number_sections": true,
   "sideBar": true,
   "skip_h1_title": false,
   "title_cell": "Table of Contents",
   "title_sidebar": "Contents",
   "toc_cell": false,
   "toc_position": {},
   "toc_section_display": true,
   "toc_window_display": false
  },
  "varInspector": {
   "cols": {
    "lenName": 16,
    "lenType": 16,
    "lenVar": 40
   },
   "kernels_config": {
    "python": {
     "delete_cmd_postfix": "",
     "delete_cmd_prefix": "del ",
     "library": "var_list.py",
     "varRefreshCmd": "print(var_dic_list())"
    },
    "r": {
     "delete_cmd_postfix": ") ",
     "delete_cmd_prefix": "rm(",
     "library": "var_list.r",
     "varRefreshCmd": "cat(var_dic_list()) "
    }
   },
   "types_to_exclude": [
    "module",
    "function",
    "builtin_function_or_method",
    "instance",
    "_Feature"
   ],
   "window_display": false
  }
 },
 "nbformat": 4,
 "nbformat_minor": 1
}
